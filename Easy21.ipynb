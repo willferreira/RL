{
 "metadata": {
  "name": "",
  "signature": "sha256:564fe5e1598b25ed90269a29b4bd5728eb82c70049589d8b7c33e4aeb4cb7623"
 },
 "nbformat": 3,
 "nbformat_minor": 0,
 "worksheets": [
  {
   "cells": [
    {
     "cell_type": "code",
     "collapsed": false,
     "input": [
      "import numpy as np\n",
      "import pandas as pd\n",
      "from question1 import *"
     ],
     "language": "python",
     "metadata": {},
     "outputs": [],
     "prompt_number": 1
    },
    {
     "cell_type": "code",
     "collapsed": false,
     "input": [
      "sample_size = 10000"
     ],
     "language": "python",
     "metadata": {},
     "outputs": [],
     "prompt_number": 2
    },
    {
     "cell_type": "code",
     "collapsed": false,
     "input": [
      "sample = [draw_from_deck_with_replacement(True) for i in range(sample_size)]\n",
      "pd.Series(sample).hist()"
     ],
     "language": "python",
     "metadata": {},
     "outputs": [
      {
       "metadata": {},
       "output_type": "pyout",
       "prompt_number": 3,
       "text": [
        "<matplotlib.axes._subplots.AxesSubplot at 0x10926d850>"
       ]
      },
      {
       "metadata": {},
       "output_type": "display_data",
       "png": "[encoded data removed]",
       "text": [
        "<matplotlib.figure.Figure at 0x10926d210>"
       ]
      }
     ],
     "prompt_number": 3
    },
    {
     "cell_type": "code",
     "collapsed": false,
     "input": [
      "sample = [draw_from_deck_with_replacement(False) for i in range(sample_size)]\n",
      "pd.Series(data=sample).value_counts().plot(kind='bar')"
     ],
     "language": "python",
     "metadata": {},
     "outputs": [
      {
       "metadata": {},
       "output_type": "pyout",
       "prompt_number": 4,
       "text": [
        "<matplotlib.axes._subplots.AxesSubplot at 0x109407050>"
       ]
      },
      {
       "metadata": {},
       "output_type": "display_data",
       "png": "[encoded data removed]",
       "text": [
        "<matplotlib.figure.Figure at 0x10948c450>"
       ]
      }
     ],
     "prompt_number": 4
    },
    {
     "cell_type": "code",
     "collapsed": false,
     "input": [
      "s = draw_from_deck_with_replacement(True), draw_from_deck_with_replacement(True)\n",
      "print(s)"
     ],
     "language": "python",
     "metadata": {},
     "outputs": [
      {
       "output_type": "stream",
       "stream": "stdout",
       "text": [
        "(1, 10)\n"
       ]
      }
     ],
     "prompt_number": 2
    },
    {
     "cell_type": "code",
     "collapsed": false,
     "input": [
      "s, reward = step(s, 'hit')\n",
      "print(s, reward)"
     ],
     "language": "python",
     "metadata": {},
     "outputs": [
      {
       "output_type": "stream",
       "stream": "stdout",
       "text": [
        "(1, 19) 0\n"
       ]
      }
     ],
     "prompt_number": 3
    },
    {
     "cell_type": "code",
     "collapsed": false,
     "input": [
      "s, reward = step(s, 'stick')\n",
      "print(s, reward)"
     ],
     "language": "python",
     "metadata": {},
     "outputs": [
      {
       "output_type": "stream",
       "stream": "stdout",
       "text": [
        "(-9, 19) 1\n"
       ]
      }
     ],
     "prompt_number": 4
    },
    {
     "cell_type": "code",
     "collapsed": false,
     "input": [
      "r = np.random.rand(21, 21)\n",
      "pi = pd.Panel.from_dict({'HIT': pd.DataFrame(index=range(1,22), columns=range(1,22), data=r), \n",
      "                         'STICK': pd.DataFrame(index=range(1,22), columns=range(1,22), data=1-r)})"
     ],
     "language": "python",
     "metadata": {},
     "outputs": [],
     "prompt_number": 35
    },
    {
     "cell_type": "code",
     "collapsed": false,
     "input": [
      "pi.ix[:, 2, 3]"
     ],
     "language": "python",
     "metadata": {},
     "outputs": [
      {
       "metadata": {},
       "output_type": "pyout",
       "prompt_number": 42,
       "text": [
        "HIT      0.531765\n",
        "STICK    0.468235\n",
        "Name: 3, dtype: float64"
       ]
      }
     ],
     "prompt_number": 42
    },
    {
     "cell_type": "code",
     "collapsed": false,
     "input": [
      "for i in range(1, 22):\n",
      "    for j in range(1, 22):\n",
      "        p = np.random.rand()\n",
      "        pi['STICK', i, j] = p\n",
      "        pi['HIT', i, j] = 1-p"
     ],
     "language": "python",
     "metadata": {},
     "outputs": [],
     "prompt_number": 28
    },
    {
     "cell_type": "code",
     "collapsed": false,
     "input": [
      "pi.ix['HIT', :,:]"
     ],
     "language": "python",
     "metadata": {},
     "outputs": [
      {
       "html": [
        "<div style=\"max-height:1000px;max-width:1500px;overflow:auto;\">\n",
        "<table border=\"1\" class=\"dataframe\">\n",
        "  <thead>\n",
        "    <tr style=\"text-align: right;\">\n",
        "      <th></th>\n",
        "      <th>1</th>\n",
        "      <th>2</th>\n",
        "      <th>3</th>\n",
        "      <th>4</th>\n",
        "      <th>5</th>\n",
        "      <th>6</th>\n",
        "      <th>7</th>\n",
        "      <th>8</th>\n",
        "      <th>9</th>\n",
        "      <th>10</th>\n",
        "      <th>...</th>\n",
        "      <th>12</th>\n",
        "      <th>13</th>\n",
        "      <th>14</th>\n",
        "      <th>15</th>\n",
        "      <th>16</th>\n",
        "      <th>17</th>\n",
        "      <th>18</th>\n",
        "      <th>19</th>\n",
        "      <th>20</th>\n",
        "      <th>21</th>\n",
        "    </tr>\n",
        "  </thead>\n",
        "  <tbody>\n",
        "    <tr>\n",
        "      <th>1 </th>\n",
        "      <td> 0.549340</td>\n",
        "      <td> 0.339258</td>\n",
        "      <td> 0.384728</td>\n",
        "      <td> 0.678397</td>\n",
        "      <td> 0.704916</td>\n",
        "      <td> 0.905368</td>\n",
        "      <td> 0.722986</td>\n",
        "      <td> 0.978372</td>\n",
        "      <td> 0.213355</td>\n",
        "      <td> 0.806242</td>\n",
        "      <td>...</td>\n",
        "      <td> 0.989863</td>\n",
        "      <td> 0.664547</td>\n",
        "      <td> 0.653116</td>\n",
        "      <td> 0.925530</td>\n",
        "      <td> 0.240818</td>\n",
        "      <td> 0.326147</td>\n",
        "      <td> 0.875255</td>\n",
        "      <td> 0.882691</td>\n",
        "      <td> 0.699696</td>\n",
        "      <td> 0.719128</td>\n",
        "    </tr>\n",
        "    <tr>\n",
        "      <th>2 </th>\n",
        "      <td> 0.986306</td>\n",
        "      <td> 0.470424</td>\n",
        "      <td> 0.531765</td>\n",
        "      <td> 0.192818</td>\n",
        "      <td> 0.649988</td>\n",
        "      <td> 0.487774</td>\n",
        "      <td> 0.005631</td>\n",
        "      <td> 0.185397</td>\n",
        "      <td> 0.790219</td>\n",
        "      <td> 0.836245</td>\n",
        "      <td>...</td>\n",
        "      <td> 0.324837</td>\n",
        "      <td> 0.954450</td>\n",
        "      <td> 0.097278</td>\n",
        "      <td> 0.235146</td>\n",
        "      <td> 0.455356</td>\n",
        "      <td> 0.157918</td>\n",
        "      <td> 0.687272</td>\n",
        "      <td> 0.227535</td>\n",
        "      <td> 0.032117</td>\n",
        "      <td> 0.273961</td>\n",
        "    </tr>\n",
        "    <tr>\n",
        "      <th>3 </th>\n",
        "      <td> 0.644589</td>\n",
        "      <td> 0.310352</td>\n",
        "      <td> 0.433100</td>\n",
        "      <td> 0.469346</td>\n",
        "      <td> 0.085766</td>\n",
        "      <td> 0.389494</td>\n",
        "      <td> 0.491035</td>\n",
        "      <td> 0.074646</td>\n",
        "      <td> 0.020846</td>\n",
        "      <td> 0.695463</td>\n",
        "      <td>...</td>\n",
        "      <td> 0.307235</td>\n",
        "      <td> 0.877032</td>\n",
        "      <td> 0.005552</td>\n",
        "      <td> 0.926978</td>\n",
        "      <td> 0.342090</td>\n",
        "      <td> 0.328164</td>\n",
        "      <td> 0.379876</td>\n",
        "      <td> 0.315700</td>\n",
        "      <td> 0.867130</td>\n",
        "      <td> 0.848700</td>\n",
        "    </tr>\n",
        "    <tr>\n",
        "      <th>4 </th>\n",
        "      <td> 0.021532</td>\n",
        "      <td> 0.632757</td>\n",
        "      <td> 0.033101</td>\n",
        "      <td> 0.044675</td>\n",
        "      <td> 0.368318</td>\n",
        "      <td> 0.258626</td>\n",
        "      <td> 0.619675</td>\n",
        "      <td> 0.290600</td>\n",
        "      <td> 0.894226</td>\n",
        "      <td> 0.165292</td>\n",
        "      <td>...</td>\n",
        "      <td> 0.670506</td>\n",
        "      <td> 0.076735</td>\n",
        "      <td> 0.754532</td>\n",
        "      <td> 0.380816</td>\n",
        "      <td> 0.081945</td>\n",
        "      <td> 0.782049</td>\n",
        "      <td> 0.748562</td>\n",
        "      <td> 0.358649</td>\n",
        "      <td> 0.217338</td>\n",
        "      <td> 0.215673</td>\n",
        "    </tr>\n",
        "    <tr>\n",
        "      <th>5 </th>\n",
        "      <td> 0.381691</td>\n",
        "      <td> 0.253496</td>\n",
        "      <td> 0.100218</td>\n",
        "      <td> 0.434161</td>\n",
        "      <td> 0.463845</td>\n",
        "      <td> 0.169528</td>\n",
        "      <td> 0.828078</td>\n",
        "      <td> 0.031148</td>\n",
        "      <td> 0.198644</td>\n",
        "      <td> 0.989000</td>\n",
        "      <td>...</td>\n",
        "      <td> 0.267335</td>\n",
        "      <td> 0.114749</td>\n",
        "      <td> 0.463628</td>\n",
        "      <td> 0.886038</td>\n",
        "      <td> 0.932552</td>\n",
        "      <td> 0.913964</td>\n",
        "      <td> 0.161307</td>\n",
        "      <td> 0.278739</td>\n",
        "      <td> 0.056206</td>\n",
        "      <td> 0.274370</td>\n",
        "    </tr>\n",
        "    <tr>\n",
        "      <th>6 </th>\n",
        "      <td> 0.109717</td>\n",
        "      <td> 0.989038</td>\n",
        "      <td> 0.704144</td>\n",
        "      <td> 0.717011</td>\n",
        "      <td> 0.283026</td>\n",
        "      <td> 0.770065</td>\n",
        "      <td> 0.084467</td>\n",
        "      <td> 0.729905</td>\n",
        "      <td> 0.059095</td>\n",
        "      <td> 0.021025</td>\n",
        "      <td>...</td>\n",
        "      <td> 0.281167</td>\n",
        "      <td> 0.054126</td>\n",
        "      <td> 0.306086</td>\n",
        "      <td> 0.928271</td>\n",
        "      <td> 0.894006</td>\n",
        "      <td> 0.958305</td>\n",
        "      <td> 0.542407</td>\n",
        "      <td> 0.098522</td>\n",
        "      <td> 0.927012</td>\n",
        "      <td> 0.462958</td>\n",
        "    </tr>\n",
        "    <tr>\n",
        "      <th>7 </th>\n",
        "      <td> 0.699712</td>\n",
        "      <td> 0.503861</td>\n",
        "      <td> 0.606216</td>\n",
        "      <td> 0.101814</td>\n",
        "      <td> 0.329903</td>\n",
        "      <td> 0.345843</td>\n",
        "      <td> 0.754182</td>\n",
        "      <td> 0.012798</td>\n",
        "      <td> 0.653870</td>\n",
        "      <td> 0.501015</td>\n",
        "      <td>...</td>\n",
        "      <td> 0.553166</td>\n",
        "      <td> 0.000078</td>\n",
        "      <td> 0.614955</td>\n",
        "      <td> 0.390589</td>\n",
        "      <td> 0.697721</td>\n",
        "      <td> 0.975485</td>\n",
        "      <td> 0.714192</td>\n",
        "      <td> 0.773276</td>\n",
        "      <td> 0.781504</td>\n",
        "      <td> 0.932261</td>\n",
        "    </tr>\n",
        "    <tr>\n",
        "      <th>8 </th>\n",
        "      <td> 0.145565</td>\n",
        "      <td> 0.632589</td>\n",
        "      <td> 0.220961</td>\n",
        "      <td> 0.139463</td>\n",
        "      <td> 0.920312</td>\n",
        "      <td> 0.389650</td>\n",
        "      <td> 0.707545</td>\n",
        "      <td> 0.679366</td>\n",
        "      <td> 0.131618</td>\n",
        "      <td> 0.873892</td>\n",
        "      <td>...</td>\n",
        "      <td> 0.988218</td>\n",
        "      <td> 0.956342</td>\n",
        "      <td> 0.974224</td>\n",
        "      <td> 0.178865</td>\n",
        "      <td> 0.369171</td>\n",
        "      <td> 0.656935</td>\n",
        "      <td> 0.421841</td>\n",
        "      <td> 0.157609</td>\n",
        "      <td> 0.602789</td>\n",
        "      <td> 0.281734</td>\n",
        "    </tr>\n",
        "    <tr>\n",
        "      <th>9 </th>\n",
        "      <td> 0.851039</td>\n",
        "      <td> 0.610786</td>\n",
        "      <td> 0.494972</td>\n",
        "      <td> 0.852052</td>\n",
        "      <td> 0.572820</td>\n",
        "      <td> 0.989450</td>\n",
        "      <td> 0.328484</td>\n",
        "      <td> 0.043780</td>\n",
        "      <td> 0.436684</td>\n",
        "      <td> 0.960517</td>\n",
        "      <td>...</td>\n",
        "      <td> 0.833470</td>\n",
        "      <td> 0.272639</td>\n",
        "      <td> 0.844942</td>\n",
        "      <td> 0.326656</td>\n",
        "      <td> 0.466131</td>\n",
        "      <td> 0.490982</td>\n",
        "      <td> 0.205871</td>\n",
        "      <td> 0.875553</td>\n",
        "      <td> 0.039817</td>\n",
        "      <td> 0.467881</td>\n",
        "    </tr>\n",
        "    <tr>\n",
        "      <th>10</th>\n",
        "      <td> 0.593328</td>\n",
        "      <td> 0.148108</td>\n",
        "      <td> 0.805981</td>\n",
        "      <td> 0.098217</td>\n",
        "      <td> 0.652069</td>\n",
        "      <td> 0.308087</td>\n",
        "      <td> 0.476397</td>\n",
        "      <td> 0.677863</td>\n",
        "      <td> 0.702597</td>\n",
        "      <td> 0.828882</td>\n",
        "      <td>...</td>\n",
        "      <td> 0.705568</td>\n",
        "      <td> 0.074501</td>\n",
        "      <td> 0.196460</td>\n",
        "      <td> 0.481703</td>\n",
        "      <td> 0.655971</td>\n",
        "      <td> 0.258890</td>\n",
        "      <td> 0.973297</td>\n",
        "      <td> 0.303160</td>\n",
        "      <td> 0.405314</td>\n",
        "      <td> 0.062316</td>\n",
        "    </tr>\n",
        "    <tr>\n",
        "      <th>11</th>\n",
        "      <td> 0.081075</td>\n",
        "      <td> 0.135997</td>\n",
        "      <td> 0.230415</td>\n",
        "      <td> 0.764279</td>\n",
        "      <td> 0.157520</td>\n",
        "      <td> 0.474609</td>\n",
        "      <td> 0.351522</td>\n",
        "      <td> 0.267521</td>\n",
        "      <td> 0.356399</td>\n",
        "      <td> 0.050645</td>\n",
        "      <td>...</td>\n",
        "      <td> 0.233357</td>\n",
        "      <td> 0.051050</td>\n",
        "      <td> 0.270284</td>\n",
        "      <td> 0.215322</td>\n",
        "      <td> 0.482552</td>\n",
        "      <td> 0.019965</td>\n",
        "      <td> 0.746587</td>\n",
        "      <td> 0.110387</td>\n",
        "      <td> 0.609752</td>\n",
        "      <td> 0.952413</td>\n",
        "    </tr>\n",
        "    <tr>\n",
        "      <th>12</th>\n",
        "      <td> 0.077419</td>\n",
        "      <td> 0.148534</td>\n",
        "      <td> 0.108304</td>\n",
        "      <td> 0.470297</td>\n",
        "      <td> 0.157347</td>\n",
        "      <td> 0.407964</td>\n",
        "      <td> 0.565872</td>\n",
        "      <td> 0.260422</td>\n",
        "      <td> 0.714307</td>\n",
        "      <td> 0.726091</td>\n",
        "      <td>...</td>\n",
        "      <td> 0.896388</td>\n",
        "      <td> 0.475238</td>\n",
        "      <td> 0.052143</td>\n",
        "      <td> 0.047790</td>\n",
        "      <td> 0.741268</td>\n",
        "      <td> 0.834902</td>\n",
        "      <td> 0.115796</td>\n",
        "      <td> 0.932012</td>\n",
        "      <td> 0.430279</td>\n",
        "      <td> 0.714015</td>\n",
        "    </tr>\n",
        "    <tr>\n",
        "      <th>13</th>\n",
        "      <td> 0.374334</td>\n",
        "      <td> 0.918491</td>\n",
        "      <td> 0.754898</td>\n",
        "      <td> 0.769047</td>\n",
        "      <td> 0.343023</td>\n",
        "      <td> 0.302314</td>\n",
        "      <td> 0.030323</td>\n",
        "      <td> 0.098206</td>\n",
        "      <td> 0.162764</td>\n",
        "      <td> 0.384021</td>\n",
        "      <td>...</td>\n",
        "      <td> 0.426777</td>\n",
        "      <td> 0.764729</td>\n",
        "      <td> 0.632079</td>\n",
        "      <td> 0.479633</td>\n",
        "      <td> 0.199314</td>\n",
        "      <td> 0.445421</td>\n",
        "      <td> 0.310187</td>\n",
        "      <td> 0.735072</td>\n",
        "      <td> 0.200575</td>\n",
        "      <td> 0.790117</td>\n",
        "    </tr>\n",
        "    <tr>\n",
        "      <th>14</th>\n",
        "      <td> 0.121174</td>\n",
        "      <td> 0.279337</td>\n",
        "      <td> 0.178272</td>\n",
        "      <td> 0.282205</td>\n",
        "      <td> 0.130958</td>\n",
        "      <td> 0.094870</td>\n",
        "      <td> 0.417694</td>\n",
        "      <td> 0.553257</td>\n",
        "      <td> 0.720526</td>\n",
        "      <td> 0.163321</td>\n",
        "      <td>...</td>\n",
        "      <td> 0.552575</td>\n",
        "      <td> 0.830564</td>\n",
        "      <td> 0.078269</td>\n",
        "      <td> 0.061732</td>\n",
        "      <td> 0.850485</td>\n",
        "      <td> 0.190847</td>\n",
        "      <td> 0.426815</td>\n",
        "      <td> 0.652339</td>\n",
        "      <td> 0.808179</td>\n",
        "      <td> 0.418316</td>\n",
        "    </tr>\n",
        "    <tr>\n",
        "      <th>15</th>\n",
        "      <td> 0.381319</td>\n",
        "      <td> 0.375786</td>\n",
        "      <td> 0.452682</td>\n",
        "      <td> 0.424864</td>\n",
        "      <td> 0.756165</td>\n",
        "      <td> 0.674781</td>\n",
        "      <td> 0.383740</td>\n",
        "      <td> 0.310272</td>\n",
        "      <td> 0.798874</td>\n",
        "      <td> 0.418438</td>\n",
        "      <td>...</td>\n",
        "      <td> 0.886414</td>\n",
        "      <td> 0.502199</td>\n",
        "      <td> 0.232530</td>\n",
        "      <td> 0.562621</td>\n",
        "      <td> 0.228026</td>\n",
        "      <td> 0.728650</td>\n",
        "      <td> 0.394478</td>\n",
        "      <td> 0.801038</td>\n",
        "      <td> 0.036011</td>\n",
        "      <td> 0.686733</td>\n",
        "    </tr>\n",
        "    <tr>\n",
        "      <th>16</th>\n",
        "      <td> 0.820610</td>\n",
        "      <td> 0.136492</td>\n",
        "      <td> 0.557339</td>\n",
        "      <td> 0.686185</td>\n",
        "      <td> 0.286293</td>\n",
        "      <td> 0.261458</td>\n",
        "      <td> 0.219865</td>\n",
        "      <td> 0.096833</td>\n",
        "      <td> 0.915565</td>\n",
        "      <td> 0.759100</td>\n",
        "      <td>...</td>\n",
        "      <td> 0.085973</td>\n",
        "      <td> 0.194383</td>\n",
        "      <td> 0.783110</td>\n",
        "      <td> 0.215266</td>\n",
        "      <td> 0.218050</td>\n",
        "      <td> 0.950693</td>\n",
        "      <td> 0.266767</td>\n",
        "      <td> 0.423464</td>\n",
        "      <td> 0.685874</td>\n",
        "      <td> 0.745550</td>\n",
        "    </tr>\n",
        "    <tr>\n",
        "      <th>17</th>\n",
        "      <td> 0.802022</td>\n",
        "      <td> 0.066827</td>\n",
        "      <td> 0.850463</td>\n",
        "      <td> 0.307853</td>\n",
        "      <td> 0.963304</td>\n",
        "      <td> 0.488669</td>\n",
        "      <td> 0.526057</td>\n",
        "      <td> 0.716505</td>\n",
        "      <td> 0.743828</td>\n",
        "      <td> 0.662850</td>\n",
        "      <td>...</td>\n",
        "      <td> 0.014603</td>\n",
        "      <td> 0.848324</td>\n",
        "      <td> 0.434131</td>\n",
        "      <td> 0.663082</td>\n",
        "      <td> 0.842312</td>\n",
        "      <td> 0.950675</td>\n",
        "      <td> 0.324912</td>\n",
        "      <td> 0.680573</td>\n",
        "      <td> 0.769386</td>\n",
        "      <td> 0.247248</td>\n",
        "    </tr>\n",
        "    <tr>\n",
        "      <th>18</th>\n",
        "      <td> 0.521706</td>\n",
        "      <td> 0.971671</td>\n",
        "      <td> 0.416746</td>\n",
        "      <td> 0.545390</td>\n",
        "      <td> 0.610333</td>\n",
        "      <td> 0.047047</td>\n",
        "      <td> 0.249311</td>\n",
        "      <td> 0.047427</td>\n",
        "      <td> 0.719375</td>\n",
        "      <td> 0.267863</td>\n",
        "      <td>...</td>\n",
        "      <td> 0.375770</td>\n",
        "      <td> 0.546279</td>\n",
        "      <td> 0.225757</td>\n",
        "      <td> 0.486139</td>\n",
        "      <td> 0.001084</td>\n",
        "      <td> 0.152685</td>\n",
        "      <td> 0.514753</td>\n",
        "      <td> 0.836224</td>\n",
        "      <td> 0.344425</td>\n",
        "      <td> 0.544350</td>\n",
        "    </tr>\n",
        "    <tr>\n",
        "      <th>19</th>\n",
        "      <td> 0.141228</td>\n",
        "      <td> 0.428135</td>\n",
        "      <td> 0.540487</td>\n",
        "      <td> 0.564540</td>\n",
        "      <td> 0.043075</td>\n",
        "      <td> 0.160279</td>\n",
        "      <td> 0.927207</td>\n",
        "      <td> 0.588710</td>\n",
        "      <td> 0.706385</td>\n",
        "      <td> 0.967287</td>\n",
        "      <td>...</td>\n",
        "      <td> 0.468547</td>\n",
        "      <td> 0.538799</td>\n",
        "      <td> 0.130363</td>\n",
        "      <td> 0.423807</td>\n",
        "      <td> 0.550356</td>\n",
        "      <td> 0.039943</td>\n",
        "      <td> 0.014547</td>\n",
        "      <td> 0.559097</td>\n",
        "      <td> 0.690175</td>\n",
        "      <td> 0.798194</td>\n",
        "    </tr>\n",
        "    <tr>\n",
        "      <th>20</th>\n",
        "      <td> 0.851219</td>\n",
        "      <td> 0.207358</td>\n",
        "      <td> 0.653951</td>\n",
        "      <td> 0.490856</td>\n",
        "      <td> 0.457457</td>\n",
        "      <td> 0.655650</td>\n",
        "      <td> 0.058146</td>\n",
        "      <td> 0.535319</td>\n",
        "      <td> 0.041210</td>\n",
        "      <td> 0.523085</td>\n",
        "      <td>...</td>\n",
        "      <td> 0.699453</td>\n",
        "      <td> 0.098397</td>\n",
        "      <td> 0.482059</td>\n",
        "      <td> 0.395050</td>\n",
        "      <td> 0.285136</td>\n",
        "      <td> 0.026100</td>\n",
        "      <td> 0.441200</td>\n",
        "      <td> 0.823148</td>\n",
        "      <td> 0.173017</td>\n",
        "      <td> 0.177321</td>\n",
        "    </tr>\n",
        "    <tr>\n",
        "      <th>21</th>\n",
        "      <td> 0.880232</td>\n",
        "      <td> 0.969942</td>\n",
        "      <td> 0.595634</td>\n",
        "      <td> 0.683629</td>\n",
        "      <td> 0.435609</td>\n",
        "      <td> 0.986828</td>\n",
        "      <td> 0.518637</td>\n",
        "      <td> 0.217430</td>\n",
        "      <td> 0.028539</td>\n",
        "      <td> 0.278837</td>\n",
        "      <td>...</td>\n",
        "      <td> 0.744293</td>\n",
        "      <td> 0.257512</td>\n",
        "      <td> 0.493883</td>\n",
        "      <td> 0.504114</td>\n",
        "      <td> 0.537645</td>\n",
        "      <td> 0.845671</td>\n",
        "      <td> 0.619102</td>\n",
        "      <td> 0.385627</td>\n",
        "      <td> 0.513195</td>\n",
        "      <td> 0.455146</td>\n",
        "    </tr>\n",
        "  </tbody>\n",
        "</table>\n",
        "<p>21 rows \u00d7 21 columns</p>\n",
        "</div>"
       ],
       "metadata": {},
       "output_type": "pyout",
       "prompt_number": 41,
       "text": [
        "          1         2         3         4         5         6         7   \\\n",
        "1   0.549340  0.339258  0.384728  0.678397  0.704916  0.905368  0.722986   \n",
        "2   0.986306  0.470424  0.531765  0.192818  0.649988  0.487774  0.005631   \n",
        "3   0.644589  0.310352  0.433100  0.469346  0.085766  0.389494  0.491035   \n",
        "4   0.021532  0.632757  0.033101  0.044675  0.368318  0.258626  0.619675   \n",
        "5   0.381691  0.253496  0.100218  0.434161  0.463845  0.169528  0.828078   \n",
        "6   0.109717  0.989038  0.704144  0.717011  0.283026  0.770065  0.084467   \n",
        "7   0.699712  0.503861  0.606216  0.101814  0.329903  0.345843  0.754182   \n",
        "8   0.145565  0.632589  0.220961  0.139463  0.920312  0.389650  0.707545   \n",
        "9   0.851039  0.610786  0.494972  0.852052  0.572820  0.989450  0.328484   \n",
        "10  0.593328  0.148108  0.805981  0.098217  0.652069  0.308087  0.476397   \n",
        "11  0.081075  0.135997  0.230415  0.764279  0.157520  0.474609  0.351522   \n",
        "12  0.077419  0.148534  0.108304  0.470297  0.157347  0.407964  0.565872   \n",
        "13  0.374334  0.918491  0.754898  0.769047  0.343023  0.302314  0.030323   \n",
        "14  0.121174  0.279337  0.178272  0.282205  0.130958  0.094870  0.417694   \n",
        "15  0.381319  0.375786  0.452682  0.424864  0.756165  0.674781  0.383740   \n",
        "16  0.820610  0.136492  0.557339  0.686185  0.286293  0.261458  0.219865   \n",
        "17  0.802022  0.066827  0.850463  0.307853  0.963304  0.488669  0.526057   \n",
        "18  0.521706  0.971671  0.416746  0.545390  0.610333  0.047047  0.249311   \n",
        "19  0.141228  0.428135  0.540487  0.564540  0.043075  0.160279  0.927207   \n",
        "20  0.851219  0.207358  0.653951  0.490856  0.457457  0.655650  0.058146   \n",
        "21  0.880232  0.969942  0.595634  0.683629  0.435609  0.986828  0.518637   \n",
        "\n",
        "          8         9         10    ...           12        13        14  \\\n",
        "1   0.978372  0.213355  0.806242    ...     0.989863  0.664547  0.653116   \n",
        "2   0.185397  0.790219  0.836245    ...     0.324837  0.954450  0.097278   \n",
        "3   0.074646  0.020846  0.695463    ...     0.307235  0.877032  0.005552   \n",
        "4   0.290600  0.894226  0.165292    ...     0.670506  0.076735  0.754532   \n",
        "5   0.031148  0.198644  0.989000    ...     0.267335  0.114749  0.463628   \n",
        "6   0.729905  0.059095  0.021025    ...     0.281167  0.054126  0.306086   \n",
        "7   0.012798  0.653870  0.501015    ...     0.553166  0.000078  0.614955   \n",
        "8   0.679366  0.131618  0.873892    ...     0.988218  0.956342  0.974224   \n",
        "9   0.043780  0.436684  0.960517    ...     0.833470  0.272639  0.844942   \n",
        "10  0.677863  0.702597  0.828882    ...     0.705568  0.074501  0.196460   \n",
        "11  0.267521  0.356399  0.050645    ...     0.233357  0.051050  0.270284   \n",
        "12  0.260422  0.714307  0.726091    ...     0.896388  0.475238  0.052143   \n",
        "13  0.098206  0.162764  0.384021    ...     0.426777  0.764729  0.632079   \n",
        "14  0.553257  0.720526  0.163321    ...     0.552575  0.830564  0.078269   \n",
        "15  0.310272  0.798874  0.418438    ...     0.886414  0.502199  0.232530   \n",
        "16  0.096833  0.915565  0.759100    ...     0.085973  0.194383  0.783110   \n",
        "17  0.716505  0.743828  0.662850    ...     0.014603  0.848324  0.434131   \n",
        "18  0.047427  0.719375  0.267863    ...     0.375770  0.546279  0.225757   \n",
        "19  0.588710  0.706385  0.967287    ...     0.468547  0.538799  0.130363   \n",
        "20  0.535319  0.041210  0.523085    ...     0.699453  0.098397  0.482059   \n",
        "21  0.217430  0.028539  0.278837    ...     0.744293  0.257512  0.493883   \n",
        "\n",
        "          15        16        17        18        19        20        21  \n",
        "1   0.925530  0.240818  0.326147  0.875255  0.882691  0.699696  0.719128  \n",
        "2   0.235146  0.455356  0.157918  0.687272  0.227535  0.032117  0.273961  \n",
        "3   0.926978  0.342090  0.328164  0.379876  0.315700  0.867130  0.848700  \n",
        "4   0.380816  0.081945  0.782049  0.748562  0.358649  0.217338  0.215673  \n",
        "5   0.886038  0.932552  0.913964  0.161307  0.278739  0.056206  0.274370  \n",
        "6   0.928271  0.894006  0.958305  0.542407  0.098522  0.927012  0.462958  \n",
        "7   0.390589  0.697721  0.975485  0.714192  0.773276  0.781504  0.932261  \n",
        "8   0.178865  0.369171  0.656935  0.421841  0.157609  0.602789  0.281734  \n",
        "9   0.326656  0.466131  0.490982  0.205871  0.875553  0.039817  0.467881  \n",
        "10  0.481703  0.655971  0.258890  0.973297  0.303160  0.405314  0.062316  \n",
        "11  0.215322  0.482552  0.019965  0.746587  0.110387  0.609752  0.952413  \n",
        "12  0.047790  0.741268  0.834902  0.115796  0.932012  0.430279  0.714015  \n",
        "13  0.479633  0.199314  0.445421  0.310187  0.735072  0.200575  0.790117  \n",
        "14  0.061732  0.850485  0.190847  0.426815  0.652339  0.808179  0.418316  \n",
        "15  0.562621  0.228026  0.728650  0.394478  0.801038  0.036011  0.686733  \n",
        "16  0.215266  0.218050  0.950693  0.266767  0.423464  0.685874  0.745550  \n",
        "17  0.663082  0.842312  0.950675  0.324912  0.680573  0.769386  0.247248  \n",
        "18  0.486139  0.001084  0.152685  0.514753  0.836224  0.344425  0.544350  \n",
        "19  0.423807  0.550356  0.039943  0.014547  0.559097  0.690175  0.798194  \n",
        "20  0.395050  0.285136  0.026100  0.441200  0.823148  0.173017  0.177321  \n",
        "21  0.504114  0.537645  0.845671  0.619102  0.385627  0.513195  0.455146  \n",
        "\n",
        "[21 rows x 21 columns]"
       ]
      }
     ],
     "prompt_number": 41
    },
    {
     "cell_type": "code",
     "collapsed": false,
     "input": [
      "pi.ix['HIT':,:]"
     ],
     "language": "python",
     "metadata": {},
     "outputs": [
      {
       "metadata": {},
       "output_type": "pyout",
       "prompt_number": 37,
       "text": [
        "<class 'pandas.core.panel.Panel'>\n",
        "Dimensions: 2 (items) x 21 (major_axis) x 21 (minor_axis)\n",
        "Items axis: HIT to STICK\n",
        "Major_axis axis: 1 to 21\n",
        "Minor_axis axis: 1 to 21"
       ]
      }
     ],
     "prompt_number": 37
    },
    {
     "cell_type": "code",
     "collapsed": false,
     "input": [
      "from scipy.stats import rv_discrete"
     ],
     "language": "python",
     "metadata": {},
     "outputs": [],
     "prompt_number": 43
    },
    {
     "cell_type": "code",
     "collapsed": false,
     "input": [
      "pi.ix[:, 2, 3].values"
     ],
     "language": "python",
     "metadata": {},
     "outputs": [
      {
       "metadata": {},
       "output_type": "pyout",
       "prompt_number": 51,
       "text": [
        "array([ 0.53176517,  0.46823483])"
       ]
      }
     ],
     "prompt_number": 51
    },
    {
     "cell_type": "code",
     "collapsed": false,
     "input": [
      "pi.items"
     ],
     "language": "python",
     "metadata": {},
     "outputs": [
      {
       "metadata": {},
       "output_type": "pyout",
       "prompt_number": 50,
       "text": [
        "Index(['HIT', 'STICK'], dtype='object')"
       ]
      }
     ],
     "prompt_number": 50
    },
    {
     "cell_type": "code",
     "collapsed": false,
     "input": [
      "dist = rv_discrete(values=(range(0, len(pi.items)), pi.ix[:, 2, 3].values))"
     ],
     "language": "python",
     "metadata": {},
     "outputs": [],
     "prompt_number": 52
    },
    {
     "cell_type": "code",
     "collapsed": false,
     "input": [
      "pi.items[dist.rvs(size=1)[0]]"
     ],
     "language": "python",
     "metadata": {},
     "outputs": [
      {
       "metadata": {},
       "output_type": "pyout",
       "prompt_number": 106,
       "text": [
        "'HIT'"
       ]
      }
     ],
     "prompt_number": 106
    },
    {
     "cell_type": "code",
     "collapsed": false,
     "input": [
      "from question2 import generate_episode, _generate_initial_pi_dist"
     ],
     "language": "python",
     "metadata": {},
     "outputs": [],
     "prompt_number": 1
    },
    {
     "cell_type": "code",
     "collapsed": false,
     "input": [
      "generate_episode(_generate_initial_pi_dist())"
     ],
     "language": "python",
     "metadata": {},
     "outputs": [
      {
       "metadata": {},
       "output_type": "pyout",
       "prompt_number": 2,
       "text": [
        "[((4, 16), 'hit', 0),\n",
        " ((18, 16), 'stick', -1),\n",
        " ((18, 16), 'stick', -1),\n",
        " ((18, 16), 'stick', -1),\n",
        " ((18, 22), 'hit', -1)]"
       ]
      }
     ],
     "prompt_number": 2
    },
    {
     "cell_type": "code",
     "collapsed": false,
     "input": [
      "from collections import Counter"
     ],
     "language": "python",
     "metadata": {},
     "outputs": [],
     "prompt_number": 3
    },
    {
     "cell_type": "code",
     "collapsed": false,
     "input": [
      "c = Counter()"
     ],
     "language": "python",
     "metadata": {},
     "outputs": [],
     "prompt_number": 4
    },
    {
     "cell_type": "code",
     "collapsed": false,
     "input": [
      "c.update('a')"
     ],
     "language": "python",
     "metadata": {},
     "outputs": [],
     "prompt_number": 7
    },
    {
     "cell_type": "code",
     "collapsed": false,
     "input": [
      "c"
     ],
     "language": "python",
     "metadata": {},
     "outputs": [
      {
       "metadata": {},
       "output_type": "pyout",
       "prompt_number": 8,
       "text": [
        "Counter({'a': 2})"
       ]
      }
     ],
     "prompt_number": 8
    },
    {
     "cell_type": "code",
     "collapsed": false,
     "input": [
      "c.update(tuple[('a','b']))"
     ],
     "language": "python",
     "metadata": {},
     "outputs": [
      {
       "ename": "SyntaxError",
       "evalue": "invalid syntax (<ipython-input-12-cb54a89caaf6>, line 1)",
       "output_type": "pyerr",
       "traceback": [
        "\u001b[0;36m  File \u001b[0;32m\"<ipython-input-12-cb54a89caaf6>\"\u001b[0;36m, line \u001b[0;32m1\u001b[0m\n\u001b[0;31m    c.update(tuple[('a','b']))\u001b[0m\n\u001b[0m                           ^\u001b[0m\n\u001b[0;31mSyntaxError\u001b[0m\u001b[0;31m:\u001b[0m invalid syntax\n"
       ]
      }
     ],
     "prompt_number": 12
    },
    {
     "cell_type": "code",
     "collapsed": false,
     "input": [
      "c"
     ],
     "language": "python",
     "metadata": {},
     "outputs": [
      {
       "metadata": {},
       "output_type": "pyout",
       "prompt_number": 10,
       "text": [
        "Counter({'a': 3, 'b': 1})"
       ]
      }
     ],
     "prompt_number": 10
    },
    {
     "cell_type": "code",
     "collapsed": false,
     "input": [
      "c"
     ],
     "language": "python",
     "metadata": {},
     "outputs": [
      {
       "metadata": {},
       "output_type": "pyout",
       "prompt_number": 13,
       "text": [
        "Counter({'a': 3, 'b': 1})"
       ]
      }
     ],
     "prompt_number": 13
    },
    {
     "cell_type": "code",
     "collapsed": false,
     "input": [
      "c.update(1)"
     ],
     "language": "python",
     "metadata": {},
     "outputs": [
      {
       "ename": "TypeError",
       "evalue": "'int' object is not iterable",
       "output_type": "pyerr",
       "traceback": [
        "\u001b[0;31m---------------------------------------------------------------------------\u001b[0m\n\u001b[0;31mTypeError\u001b[0m                                 Traceback (most recent call last)",
        "\u001b[0;32m<ipython-input-14-b3ece2de5f27>\u001b[0m in \u001b[0;36m<module>\u001b[0;34m()\u001b[0m\n\u001b[0;32m----> 1\u001b[0;31m \u001b[0mc\u001b[0m\u001b[0;34m.\u001b[0m\u001b[0mupdate\u001b[0m\u001b[0;34m(\u001b[0m\u001b[0;36m1\u001b[0m\u001b[0;34m)\u001b[0m\u001b[0;34m\u001b[0m\u001b[0m\n\u001b[0m",
        "\u001b[0;32m/Users/williamferreira/anaconda/envs/bio/lib/python3.3/collections/__init__.py\u001b[0m in \u001b[0;36mupdate\u001b[0;34m(self, iterable, **kwds)\u001b[0m\n\u001b[1;32m    545\u001b[0m                     \u001b[0msuper\u001b[0m\u001b[0;34m(\u001b[0m\u001b[0;34m)\u001b[0m\u001b[0;34m.\u001b[0m\u001b[0mupdate\u001b[0m\u001b[0;34m(\u001b[0m\u001b[0miterable\u001b[0m\u001b[0;34m)\u001b[0m \u001b[0;31m# fast path when counter is empty\u001b[0m\u001b[0;34m\u001b[0m\u001b[0m\n\u001b[1;32m    546\u001b[0m             \u001b[0;32melse\u001b[0m\u001b[0;34m:\u001b[0m\u001b[0;34m\u001b[0m\u001b[0m\n\u001b[0;32m--> 547\u001b[0;31m                 \u001b[0m_count_elements\u001b[0m\u001b[0;34m(\u001b[0m\u001b[0mself\u001b[0m\u001b[0;34m,\u001b[0m \u001b[0miterable\u001b[0m\u001b[0;34m)\u001b[0m\u001b[0;34m\u001b[0m\u001b[0m\n\u001b[0m\u001b[1;32m    548\u001b[0m         \u001b[0;32mif\u001b[0m \u001b[0mkwds\u001b[0m\u001b[0;34m:\u001b[0m\u001b[0;34m\u001b[0m\u001b[0m\n\u001b[1;32m    549\u001b[0m             \u001b[0mself\u001b[0m\u001b[0;34m.\u001b[0m\u001b[0mupdate\u001b[0m\u001b[0;34m(\u001b[0m\u001b[0mkwds\u001b[0m\u001b[0;34m)\u001b[0m\u001b[0;34m\u001b[0m\u001b[0m\n",
        "\u001b[0;31mTypeError\u001b[0m: 'int' object is not iterable"
       ]
      }
     ],
     "prompt_number": 14
    },
    {
     "cell_type": "code",
     "collapsed": false,
     "input": [
      "from collections import defaultdict"
     ],
     "language": "python",
     "metadata": {},
     "outputs": [],
     "prompt_number": 15
    },
    {
     "cell_type": "code",
     "collapsed": false,
     "input": [
      "d = defaultdict(int)"
     ],
     "language": "python",
     "metadata": {},
     "outputs": [],
     "prompt_number": 16
    },
    {
     "cell_type": "code",
     "collapsed": false,
     "input": [
      "d['a'] += 1"
     ],
     "language": "python",
     "metadata": {},
     "outputs": [],
     "prompt_number": 17
    },
    {
     "cell_type": "code",
     "collapsed": false,
     "input": [
      "d"
     ],
     "language": "python",
     "metadata": {},
     "outputs": [
      {
       "metadata": {},
       "output_type": "pyout",
       "prompt_number": 18,
       "text": [
        "defaultdict(<class 'int'>, {'a': 1})"
       ]
      }
     ],
     "prompt_number": 18
    },
    {
     "cell_type": "code",
     "collapsed": false,
     "input": [
      "d[('a', 'b')] += 1"
     ],
     "language": "python",
     "metadata": {},
     "outputs": [],
     "prompt_number": 19
    },
    {
     "cell_type": "code",
     "collapsed": false,
     "input": [
      "d"
     ],
     "language": "python",
     "metadata": {},
     "outputs": [
      {
       "metadata": {},
       "output_type": "pyout",
       "prompt_number": 20,
       "text": [
        "defaultdict(<class 'int'>, {('a', 'b'): 1, 'a': 1})"
       ]
      }
     ],
     "prompt_number": 20
    },
    {
     "cell_type": "code",
     "collapsed": false,
     "input": [
      "e = defaultdict(int)"
     ],
     "language": "python",
     "metadata": {},
     "outputs": [],
     "prompt_number": 21
    },
    {
     "cell_type": "code",
     "collapsed": false,
     "input": [
      "e['a']"
     ],
     "language": "python",
     "metadata": {},
     "outputs": [
      {
       "metadata": {},
       "output_type": "pyout",
       "prompt_number": 22,
       "text": [
        "0"
       ]
      }
     ],
     "prompt_number": 22
    },
    {
     "cell_type": "code",
     "collapsed": false,
     "input": [
      "e"
     ],
     "language": "python",
     "metadata": {},
     "outputs": [
      {
       "metadata": {},
       "output_type": "pyout",
       "prompt_number": 23,
       "text": [
        "defaultdict(<class 'int'>, {'a': 0})"
       ]
      }
     ],
     "prompt_number": 23
    },
    {
     "cell_type": "code",
     "collapsed": false,
     "input": [
      "L = [((2, 6), 'stick', 1)]"
     ],
     "language": "python",
     "metadata": {},
     "outputs": [],
     "prompt_number": 24
    },
    {
     "cell_type": "code",
     "collapsed": false,
     "input": [
      "for s, a, r in L:\n",
      "    print(s, a, r)"
     ],
     "language": "python",
     "metadata": {},
     "outputs": [
      {
       "output_type": "stream",
       "stream": "stdout",
       "text": [
        "(2, 6) stick 1\n"
       ]
      }
     ],
     "prompt_number": 26
    },
    {
     "cell_type": "code",
     "collapsed": false,
     "input": [
      "np.argmax([1, 5, 3, 2, 6, 1])"
     ],
     "language": "python",
     "metadata": {},
     "outputs": [
      {
       "metadata": {},
       "output_type": "pyout",
       "prompt_number": 27,
       "text": [
        "4"
       ]
      }
     ],
     "prompt_number": 27
    },
    {
     "cell_type": "code",
     "collapsed": false,
     "input": [
      "import itertools as it"
     ],
     "language": "python",
     "metadata": {},
     "outputs": [],
     "prompt_number": 28
    },
    {
     "cell_type": "code",
     "collapsed": false,
     "input": [
      "r = it.repeat(1.0)"
     ],
     "language": "python",
     "metadata": {},
     "outputs": [],
     "prompt_number": 31
    },
    {
     "cell_type": "code",
     "collapsed": false,
     "input": [
      "type(r)"
     ],
     "language": "python",
     "metadata": {},
     "outputs": [
      {
       "metadata": {},
       "output_type": "pyout",
       "prompt_number": 33,
       "text": [
        "itertools.repeat"
       ]
      }
     ],
     "prompt_number": 33
    },
    {
     "cell_type": "code",
     "collapsed": false,
     "input": [
      "r()"
     ],
     "language": "python",
     "metadata": {},
     "outputs": [
      {
       "ename": "TypeError",
       "evalue": "'itertools.repeat' object is not callable",
       "output_type": "pyerr",
       "traceback": [
        "\u001b[0;31m---------------------------------------------------------------------------\u001b[0m\n\u001b[0;31mTypeError\u001b[0m                                 Traceback (most recent call last)",
        "\u001b[0;32m<ipython-input-34-b9e46326be51>\u001b[0m in \u001b[0;36m<module>\u001b[0;34m()\u001b[0m\n\u001b[0;32m----> 1\u001b[0;31m \u001b[0mr\u001b[0m\u001b[0;34m(\u001b[0m\u001b[0;34m)\u001b[0m\u001b[0;34m\u001b[0m\u001b[0m\n\u001b[0m",
        "\u001b[0;31mTypeError\u001b[0m: 'itertools.repeat' object is not callable"
       ]
      }
     ],
     "prompt_number": 34
    },
    {
     "cell_type": "code",
     "collapsed": false,
     "input": [
      "r.next()"
     ],
     "language": "python",
     "metadata": {},
     "outputs": [
      {
       "ename": "AttributeError",
       "evalue": "'itertools.repeat' object has no attribute 'next'",
       "output_type": "pyerr",
       "traceback": [
        "\u001b[0;31m---------------------------------------------------------------------------\u001b[0m\n\u001b[0;31mAttributeError\u001b[0m                            Traceback (most recent call last)",
        "\u001b[0;32m<ipython-input-35-8d25240d5a85>\u001b[0m in \u001b[0;36m<module>\u001b[0;34m()\u001b[0m\n\u001b[0;32m----> 1\u001b[0;31m \u001b[0mr\u001b[0m\u001b[0;34m.\u001b[0m\u001b[0mnext\u001b[0m\u001b[0;34m(\u001b[0m\u001b[0;34m)\u001b[0m\u001b[0;34m\u001b[0m\u001b[0m\n\u001b[0m",
        "\u001b[0;31mAttributeError\u001b[0m: 'itertools.repeat' object has no attribute 'next'"
       ]
      }
     ],
     "prompt_number": 35
    },
    {
     "cell_type": "code",
     "collapsed": false,
     "input": [
      "iter(r).next()"
     ],
     "language": "python",
     "metadata": {},
     "outputs": [
      {
       "ename": "AttributeError",
       "evalue": "'itertools.repeat' object has no attribute 'next'",
       "output_type": "pyerr",
       "traceback": [
        "\u001b[0;31m---------------------------------------------------------------------------\u001b[0m\n\u001b[0;31mAttributeError\u001b[0m                            Traceback (most recent call last)",
        "\u001b[0;32m<ipython-input-36-5b83309b351c>\u001b[0m in \u001b[0;36m<module>\u001b[0;34m()\u001b[0m\n\u001b[0;32m----> 1\u001b[0;31m \u001b[0miter\u001b[0m\u001b[0;34m(\u001b[0m\u001b[0mr\u001b[0m\u001b[0;34m)\u001b[0m\u001b[0;34m.\u001b[0m\u001b[0mnext\u001b[0m\u001b[0;34m(\u001b[0m\u001b[0;34m)\u001b[0m\u001b[0;34m\u001b[0m\u001b[0m\n\u001b[0m",
        "\u001b[0;31mAttributeError\u001b[0m: 'itertools.repeat' object has no attribute 'next'"
       ]
      }
     ],
     "prompt_number": 36
    },
    {
     "cell_type": "code",
     "collapsed": false,
     "input": [
      "iter(r)"
     ],
     "language": "python",
     "metadata": {},
     "outputs": [
      {
       "metadata": {},
       "output_type": "pyout",
       "prompt_number": 37,
       "text": [
        "repeat(1.0)"
       ]
      }
     ],
     "prompt_number": 37
    },
    {
     "cell_type": "code",
     "collapsed": false,
     "input": [
      "_.next()"
     ],
     "language": "python",
     "metadata": {},
     "outputs": [
      {
       "ename": "AttributeError",
       "evalue": "'itertools.repeat' object has no attribute 'next'",
       "output_type": "pyerr",
       "traceback": [
        "\u001b[0;31m---------------------------------------------------------------------------\u001b[0m\n\u001b[0;31mAttributeError\u001b[0m                            Traceback (most recent call last)",
        "\u001b[0;32m<ipython-input-38-2b00961fbc64>\u001b[0m in \u001b[0;36m<module>\u001b[0;34m()\u001b[0m\n\u001b[0;32m----> 1\u001b[0;31m \u001b[0m_\u001b[0m\u001b[0;34m.\u001b[0m\u001b[0mnext\u001b[0m\u001b[0;34m(\u001b[0m\u001b[0;34m)\u001b[0m\u001b[0;34m\u001b[0m\u001b[0m\n\u001b[0m",
        "\u001b[0;31mAttributeError\u001b[0m: 'itertools.repeat' object has no attribute 'next'"
       ]
      }
     ],
     "prompt_number": 38
    },
    {
     "cell_type": "code",
     "collapsed": false,
     "input": [
      "next(r)"
     ],
     "language": "python",
     "metadata": {},
     "outputs": [
      {
       "metadata": {},
       "output_type": "pyout",
       "prompt_number": 39,
       "text": [
        "1.0"
       ]
      }
     ],
     "prompt_number": 39
    },
    {
     "cell_type": "code",
     "collapsed": false,
     "input": [
      "from question2 import *"
     ],
     "language": "python",
     "metadata": {},
     "outputs": [],
     "prompt_number": 1
    },
    {
     "cell_type": "code",
     "collapsed": false,
     "input": [
      "easy21MCC = Easy21MCControl(T=1000000)\n",
      "easy21MCC.run()"
     ],
     "language": "python",
     "metadata": {},
     "outputs": [],
     "prompt_number": 70
    },
    {
     "cell_type": "code",
     "collapsed": false,
     "input": [
      "from mpl_toolkits.mplot3d import axes3d\n",
      "import matplotlib.pyplot as plt\n",
      "from matplotlib import cm\n",
      "\n",
      "fig = plt.figure()\n",
      "ax = fig.add_subplot(111, projection='3d')\n",
      "X, Y = np.meshgrid(range(1,11), range(1,22))\n",
      "# Z = easy21MCC.Q.ix['stick',:,:].values.T\n",
      "Z = easy21MCC.V.values.T\n",
      "ax.plot_wireframe(X, Y, Z, rstride=1, cstride=1)\n",
      "plt.xlabel('Dealer Showing')\n",
      "plt.ylabel('Player Sum')\n",
      "plt.show()"
     ],
     "language": "python",
     "metadata": {},
     "outputs": [
      {
       "metadata": {},
       "output_type": "display_data",
       "png": "[encoded data removed]",
       "text": [
        "<matplotlib.figure.Figure at 0x109a30910>"
       ]
      }
     ],
     "prompt_number": 84
    },
    {
     "cell_type": "code",
     "collapsed": false,
     "input": [
      "easy21MCC.V.to_csv('/Users/williamferreira/Documents/UCL/CSML/Reinforcement Learning/Easy21V.csv')"
     ],
     "language": "python",
     "metadata": {},
     "outputs": [],
     "prompt_number": 76
    },
    {
     "cell_type": "code",
     "collapsed": false,
     "input": [
      "easy21MCC.Q.ix['stick',:,:].to_csv('/Users/williamferreira/Documents/UCL/CSML/Reinforcement Learning/Easy21Qstick.csv')"
     ],
     "language": "python",
     "metadata": {},
     "outputs": [],
     "prompt_number": 80
    },
    {
     "cell_type": "code",
     "collapsed": false,
     "input": [
      "1E6"
     ],
     "language": "python",
     "metadata": {},
     "outputs": [
      {
       "metadata": {},
       "output_type": "pyout",
       "prompt_number": 85,
       "text": [
        "1000000.0"
       ]
      }
     ],
     "prompt_number": 85
    },
    {
     "cell_type": "code",
     "collapsed": false,
     "input": [],
     "language": "python",
     "metadata": {},
     "outputs": []
    }
   ],
   "metadata": {}
  }
 ]
}